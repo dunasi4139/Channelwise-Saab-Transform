{
 "cells": [
  {
   "cell_type": "code",
   "execution_count": 1,
   "metadata": {},
   "outputs": [],
   "source": [
    "import os\n",
    "\n",
    "os.chdir('/home/alfirsafauzulh@student.ub.ac.id/Channelwise-Saab-Transform')"
   ]
  },
  {
   "cell_type": "code",
   "execution_count": 2,
   "metadata": {},
   "outputs": [],
   "source": [
    "# Saab transformationv 2021.04.12\n",
    "# modified from https://github.com/ChengyaoWang/PixelHop-_c-wSaab/blob/master/saab.py\n",
    "\n",
    "import numpy as np\n",
    "import numba\n",
    "# from sklearn.decomposition import PCA, IncrementalPCA\n",
    "\n",
    "\n",
    "@numba.jit(nopython = True, parallel = True)\n",
    "def pca_cal(X: np.ndarray):\n",
    "    cov = X.transpose() @ X\n",
    "    eva, eve = np.linalg.eigh(cov)\n",
    "    inds = eva.argsort()[::-1]\n",
    "    eva = eva[inds]\n",
    "    kernels = eve.transpose()[inds]\n",
    "    return kernels, eva / (X.shape[0] - 1)\n",
    "\n",
    "@numba.jit(forceobj = True, parallel = True)\n",
    "def remove_mean(X: np.ndarray, feature_mean: np.ndarray):\n",
    "    return X - feature_mean\n",
    "\n",
    "@numba.jit(nopython = True, parallel = True)\n",
    "def feat_transform(X: np.ndarray, kernel: np.ndarray):\n",
    "    return X @ kernel.transpose()\n",
    "\n",
    "\n",
    "class Saab():\n",
    "    def __init__(self, num_kernels=-1, needBias=True, bias=0):\n",
    "        self.num_kernels = num_kernels \n",
    "        self.needBias = needBias\n",
    "        self.Bias_previous = bias # bias calculated from previous\n",
    "        self.Bias_current = [] # bias for the current Hop\n",
    "        self.Kernels = []\n",
    "        self.Mean0 = [] # feature mean of AC\n",
    "        self.Energy = [] # kernel energy list\n",
    "        self.trained = False\n",
    "\n",
    "    def fit(self, X): \n",
    "        assert (len(X.shape) == 2), \"Input must be a 2D array!\"\n",
    "        X = X.astype('float32')\n",
    "        \n",
    "        # add bias from the previous Hop\n",
    "        if self.needBias == True:\n",
    "            X += self.Bias_previous\n",
    "            \n",
    "        # remove DC, get AC components\n",
    "        dc = np.mean(X, axis = 1, keepdims = True)\n",
    "        X = remove_mean(X, dc)\n",
    "        \n",
    "        # calcualte bias at the current Hop\n",
    "        self.Bias_current = np.max(np.linalg.norm(X, axis=1))\n",
    "        \n",
    "        # remove feature mean --> self.Mean0\n",
    "        self.Mean0 = np.mean(X, axis = 0, keepdims = True)\n",
    "        X = remove_mean(X, self.Mean0)\n",
    "\n",
    "        if self.num_kernels == -1:\n",
    "            self.num_kernels = X.shape[-1]\n",
    "        \n",
    "        # Rewritten PCA Using Numpy\n",
    "        kernels, eva = pca_cal(X)\n",
    "        \n",
    "        # Concatenate with DC kernel\n",
    "        dc_kernel = 1 / np.sqrt(X.shape[-1]) * np.ones((1, X.shape[-1]))# / np.sqrt(largest_ev)\n",
    "        kernels = np.concatenate((dc_kernel, kernels[:-1]), axis = 0)\n",
    "        \n",
    "        # Concatenate with DC energy\n",
    "        largest_ev = np.var(dc * np.sqrt(X.shape[-1]))  \n",
    "        energy = np.concatenate((np.array([largest_ev]), eva[:-1]), axis = 0)\n",
    "        energy = energy / np.sum(energy)\n",
    "        \n",
    "        # store\n",
    "        self.Kernels, self.Energy = kernels.astype('float32'), energy\n",
    "        self.trained = True\n",
    "\n",
    "\n",
    "    def transform(self, X):\n",
    "        assert (self.trained == True), \"Must call fit first!\"\n",
    "        X = X.astype('float32')\n",
    "        \n",
    "        # add bias from the previous Hop\n",
    "        if self.needBias == True:\n",
    "            X += self.Bias_previous\n",
    "            \n",
    "        # remove feature mean of AC\n",
    "        X = remove_mean(X, self.Mean0)\n",
    "        \n",
    "        # convolve with DC and AC filters\n",
    "        X = feat_transform(X, self.Kernels)\n",
    "        \n",
    "        return X"
   ]
  },
  {
   "cell_type": "code",
   "execution_count": 3,
   "metadata": {},
   "outputs": [],
   "source": [
    "# load all images from covid-chestxray-dataset/images\n",
    "\n",
    "import os\n",
    "import cv2\n",
    "\n",
    "# list all files in covid-chestxray-dataset/images\n",
    "path = 'covid-chestxray-dataset/images'\n",
    "files = os.listdir(path)"
   ]
  },
  {
   "cell_type": "code",
   "execution_count": 4,
   "metadata": {},
   "outputs": [
    {
     "name": "stdout",
     "output_type": "stream",
     "text": [
      "[[[[ 51]\n",
      "   [ 50]\n",
      "   [  0]\n",
      "   ...\n",
      "   [ 48]\n",
      "   [ 48]\n",
      "   [ 48]]\n",
      "\n",
      "  [[ 50]\n",
      "   [ 48]\n",
      "   [115]\n",
      "   ...\n",
      "   [ 45]\n",
      "   [ 47]\n",
      "   [ 48]]\n",
      "\n",
      "  [[ 49]\n",
      "   [ 47]\n",
      "   [ 47]\n",
      "   ...\n",
      "   [ 44]\n",
      "   [ 46]\n",
      "   [ 46]]\n",
      "\n",
      "  ...\n",
      "\n",
      "  [[175]\n",
      "   [176]\n",
      "   [179]\n",
      "   ...\n",
      "   [164]\n",
      "   [155]\n",
      "   [150]]\n",
      "\n",
      "  [[173]\n",
      "   [177]\n",
      "   [176]\n",
      "   ...\n",
      "   [166]\n",
      "   [155]\n",
      "   [150]]\n",
      "\n",
      "  [[175]\n",
      "   [173]\n",
      "   [176]\n",
      "   ...\n",
      "   [167]\n",
      "   [157]\n",
      "   [153]]]]\n",
      " input feature shape: (1, 64, 64, 1)\n"
     ]
    }
   ],
   "source": [
    "img = cv2.imread(os.path.join(path, files[0]), cv2.IMREAD_GRAYSCALE)\n",
    "img = cv2.resize(img, (64,64))\n",
    "img = img.reshape(1, 64,64, 1)\n",
    "\n",
    "print(img)\n",
    "print(\" input feature shape: %s\"%str(img.shape))"
   ]
  },
  {
   "cell_type": "code",
   "execution_count": 5,
   "metadata": {},
   "outputs": [
    {
     "name": "stdout",
     "output_type": "stream",
     "text": [
      " input feature shape: (930, 512, 512, 1)\n"
     ]
    }
   ],
   "source": [
    "datasets = []\n",
    "for i in range(len(files)):\n",
    "    img = cv2.imread(os.path.join(path, files[i]), cv2.IMREAD_GRAYSCALE)\n",
    "    img = cv2.resize(img, (512,512))\n",
    "    img = img.reshape(1, 512,512, 1)\n",
    "    datasets.append(img)\n",
    "\n",
    "datasets = np.concatenate(datasets, axis = 0)\n",
    "print(\" input feature shape: %s\"%str(datasets.shape))"
   ]
  },
  {
   "cell_type": "code",
   "execution_count": 6,
   "metadata": {},
   "outputs": [
    {
     "name": "stdout",
     "output_type": "stream",
     "text": [
      " input feature shape: (5, 262144)\n"
     ]
    }
   ],
   "source": [
    "X = datasets.copy()\n",
    "X = X.reshape(X.shape[0], -1)[0:5] \n",
    "print(\" input feature shape: %s\"%str(X.shape))"
   ]
  },
  {
   "cell_type": "code",
   "execution_count": 7,
   "metadata": {},
   "outputs": [],
   "source": [
    "saab = Saab(num_kernels=-1, needBias=True, bias=0)\n",
    "saab.fit(X)"
   ]
  },
  {
   "cell_type": "code",
   "execution_count": 1,
   "metadata": {},
   "outputs": [
    {
     "ename": "NameError",
     "evalue": "name 'saab' is not defined",
     "output_type": "error",
     "traceback": [
      "\u001b[0;31m---------------------------------------------------------------------------\u001b[0m",
      "\u001b[0;31mNameError\u001b[0m                                 Traceback (most recent call last)",
      "Cell \u001b[0;32mIn[1], line 1\u001b[0m\n\u001b[0;32m----> 1\u001b[0m xt \u001b[39m=\u001b[39m saab\u001b[39m.\u001b[39mtransform(X)\n\u001b[1;32m      2\u001b[0m \u001b[39mprint\u001b[39m(\u001b[39m\"\u001b[39m\u001b[39m output feature shape: \u001b[39m\u001b[39m%s\u001b[39;00m\u001b[39m\"\u001b[39m\u001b[39m%\u001b[39m\u001b[39mstr\u001b[39m(xt\u001b[39m.\u001b[39mshape))\n",
      "\u001b[0;31mNameError\u001b[0m: name 'saab' is not defined"
     ]
    }
   ],
   "source": [
    "xt = saab.transform(X)\n",
    "print(\" output feature shape: %s\"%str(xt.shape))\n"
   ]
  },
  {
   "cell_type": "code",
   "execution_count": 12,
   "metadata": {},
   "outputs": [
    {
     "name": "stdout",
     "output_type": "stream",
     "text": [
      " before xt \n",
      "[[ 65  83 117 113 111  95  95  51]\n",
      " [106 112  74 120 107  76 112 115]\n",
      " [110  85  86 116 132  77  77 123]\n",
      " [111  76  74 125 132  88  70 120]\n",
      " [129  76  81 120 133  86  77 132]\n",
      " [137  78  83 134 116 129  85 115]\n",
      " [145 128 117 119 114 118 118 120]\n",
      " [135 112 113 111 112 109 111 117]]\n",
      " after xt \n",
      "[[ 8.45499878e+02 -8.75452118e+01  1.17194160e+02 -1.07152336e+02\n",
      "  -8.97542286e+00  1.17920809e+01 -1.03148232e+01  1.95761013e+01]\n",
      " [ 9.62392426e+00  1.50919962e+01  2.21294994e+01 -3.80111885e+01\n",
      "   2.76408052e+00  1.55926895e+01 -2.05647969e+00  5.52899456e+00]\n",
      " [-1.26376591e+01  1.42624140e+00 -8.01621246e+00 -2.79141960e+01\n",
      "  -3.00571394e+00  9.92163086e+00  1.55805588e+01  4.04148054e+00]\n",
      " [ 9.16978550e+00 -3.65355849e+00 -4.34708643e+00 -5.11817455e+00\n",
      "  -6.08921146e+00  5.17383337e-01 -1.04166069e+01  7.37631273e+00]\n",
      " [ 6.27021432e-01 -1.93904896e+01  8.65321064e+00  2.38075008e+01\n",
      "   6.78848648e+00  2.32924476e-01  1.75064602e+01 -1.09700947e+01]\n",
      " [-1.79365520e+01 -5.22142458e+00  6.38274813e+00  1.36459837e+01\n",
      "  -2.70826090e-02  1.73136258e+00  3.05307245e+00  1.61532044e+00]\n",
      " [-7.66350603e+00  4.16918993e+00 -1.26192017e+01  4.71703768e+00\n",
      "   6.06588078e+00 -3.06787562e+00 -1.47521744e+01 -3.49374604e+00]\n",
      " [-1.82489049e+00 -4.14382267e+00  7.90546274e+00  1.04042349e+01\n",
      "   6.58263564e-01  2.86911082e+00 -8.71165395e-01  8.25727654e+00]]\n"
     ]
    }
   ],
   "source": [
    "print(\" before xt \")\n",
    "img = datasets[0].reshape(512, 512)\n",
    "print(img)\n",
    "\n",
    "print(\" after xt \")\n",
    "img = xt[0].reshape(512, 512)\n",
    "print(img)\n"
   ]
  },
  {
   "cell_type": "code",
   "execution_count": 12,
   "metadata": {},
   "outputs": [
    {
     "name": "stdout",
     "output_type": "stream",
     "text": [
      "svmem(total=8344264704, available=5898502144, percent=29.3, used=2121146368, free=318332928, active=3248369664, inactive=4274827264, buffers=184152064, cached=5720633344, shared=954368, slab=396378112)\n"
     ]
    }
   ],
   "source": [
    "# check ram usage\n",
    "import psutil\n",
    "print(psutil.virtual_memory())"
   ]
  }
 ],
 "metadata": {
  "kernelspec": {
   "display_name": "Python 3",
   "language": "python",
   "name": "python3"
  },
  "language_info": {
   "codemirror_mode": {
    "name": "ipython",
    "version": 3
   },
   "file_extension": ".py",
   "mimetype": "text/x-python",
   "name": "python",
   "nbconvert_exporter": "python",
   "pygments_lexer": "ipython3",
   "version": "3.10.4"
  },
  "orig_nbformat": 4
 },
 "nbformat": 4,
 "nbformat_minor": 2
}
