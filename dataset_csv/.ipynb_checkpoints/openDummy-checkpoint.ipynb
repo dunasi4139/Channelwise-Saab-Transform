{
 "cells": [
  {
   "cell_type": "code",
   "execution_count": 3,
   "metadata": {},
   "outputs": [],
   "source": [
    "# Saab transformationv 2021.04.12\n",
    "# modified from https://github.com/ChengyaoWang/PixelHop-_c-wSaab/blob/master/saab.py\n",
    "\n",
    "import numpy as np\n",
    "import numba\n",
    "# from sklearn.decomposition import PCA, IncrementalPCA\n",
    "\n",
    "\n",
    "@numba.jit(nopython = True, parallel = True)\n",
    "def pca_cal(X: np.ndarray):\n",
    "    cov = X.transpose() @ X\n",
    "    eva, eve = np.linalg.eigh(cov)\n",
    "    inds = eva.argsort()[::-1]\n",
    "    eva = eva[inds]\n",
    "    kernels = eve.transpose()[inds]\n",
    "    return kernels, eva / (X.shape[0] - 1)\n",
    "\n",
    "@numba.jit(forceobj = True, parallel = True)\n",
    "def remove_mean(X: np.ndarray, feature_mean: np.ndarray):\n",
    "    return X - feature_mean\n",
    "\n",
    "@numba.jit(nopython = True, parallel = True)\n",
    "def feat_transform(X: np.ndarray, kernel: np.ndarray):\n",
    "    return X @ kernel.transpose()\n",
    "\n",
    "\n",
    "class Saab():\n",
    "    def __init__(self, num_kernels=-1, needBias=True, bias=0):\n",
    "        self.num_kernels = num_kernels \n",
    "        self.needBias = needBias\n",
    "        self.Bias_previous = bias # bias calculated from previous\n",
    "        self.Bias_current = [] # bias for the current Hop\n",
    "        self.Kernels = []\n",
    "        self.Mean0 = [] # feature mean of AC\n",
    "        self.Energy = [] # kernel energy list\n",
    "        self.trained = False\n",
    "\n",
    "    def fit(self, X): \n",
    "        assert (len(X.shape) == 2), \"Input must be a 2D array!\"\n",
    "        X = X.astype('float32')\n",
    "        \n",
    "        # add bias from the previous Hop\n",
    "        if self.needBias == True:\n",
    "            X += self.Bias_previous\n",
    "            \n",
    "        # remove DC, get AC components\n",
    "        dc = np.mean(X, axis = 1, keepdims = True)\n",
    "        X = remove_mean(X, dc)\n",
    "        \n",
    "        # calcualte bias at the current Hop\n",
    "        self.Bias_current = np.max(np.linalg.norm(X, axis=1))\n",
    "        \n",
    "        # remove feature mean --> self.Mean0\n",
    "        self.Mean0 = np.mean(X, axis = 0, keepdims = True)\n",
    "        X = remove_mean(X, self.Mean0)\n",
    "\n",
    "        if self.num_kernels == -1:\n",
    "            self.num_kernels = X.shape[-1]\n",
    "        \n",
    "        # Rewritten PCA Using Numpy\n",
    "        kernels, eva = pca_cal(X)\n",
    "        \n",
    "        # Concatenate with DC kernel\n",
    "        dc_kernel = 1 / np.sqrt(X.shape[-1]) * np.ones((1, X.shape[-1]))# / np.sqrt(largest_ev)\n",
    "        kernels = np.concatenate((dc_kernel, kernels[:-1]), axis = 0)\n",
    "        \n",
    "        # Concatenate with DC energy\n",
    "        largest_ev = np.var(dc * np.sqrt(X.shape[-1]))  \n",
    "        energy = np.concatenate((np.array([largest_ev]), eva[:-1]), axis = 0)\n",
    "        energy = energy / np.sum(energy)\n",
    "        \n",
    "        # store\n",
    "        self.Kernels, self.Energy = kernels.astype('float32'), energy\n",
    "        self.trained = True\n",
    "\n",
    "\n",
    "    def transform(self, X):\n",
    "        assert (self.trained == True), \"Must call fit first!\"\n",
    "        X = X.astype('float32')\n",
    "        \n",
    "        # add bias from the previous Hop\n",
    "        if self.needBias == True:\n",
    "            X += self.Bias_previous\n",
    "            \n",
    "        # remove feature mean of AC\n",
    "        X = remove_mean(X, self.Mean0)\n",
    "        \n",
    "        # convolve with DC and AC filters\n",
    "        X = feat_transform(X, self.Kernels)\n",
    "        \n",
    "        return X"
   ]
  },
  {
   "cell_type": "code",
   "execution_count": 4,
   "metadata": {},
   "outputs": [
    {
     "name": "stdout",
     "output_type": "stream",
     "text": [
      " > This is a test example: \n",
      " input feature shape: (1797, 8, 8, 1)\n"
     ]
    }
   ],
   "source": [
    "from sklearn import datasets\n",
    "import warnings\n",
    "warnings.filterwarnings(\"ignore\")\n",
    "\n",
    "print(\" > This is a test example: \")\n",
    "digits = datasets.load_digits()\n",
    "data = digits.images.reshape((len(digits.images), 8, 8, 1))\n",
    "print(\" input feature shape: %s\"%str(data.shape))"
   ]
  },
  {
   "cell_type": "code",
   "execution_count": 6,
   "metadata": {},
   "outputs": [
    {
     "name": "stdout",
     "output_type": "stream",
     "text": [
      " input feature shape: (1, 8, 8, 1)\n"
     ]
    }
   ],
   "source": [
    "# read test_lungs.jpg\n",
    "import cv2\n",
    "\n",
    "img = cv2.imread('test_lungs.jpg', cv2.IMREAD_GRAYSCALE)\n",
    "img = cv2.resize(img, (8, 8))\n",
    "img = img.reshape((1, 8, 8, 1))\n",
    "print(\" input feature shape: %s\"%str(img.shape))"
   ]
  },
  {
   "cell_type": "code",
   "execution_count": 7,
   "metadata": {},
   "outputs": [
    {
     "data": {
      "image/png": "[encoded data removed]",
      "text/plain": [
       "<Figure size 640x480 with 1 Axes>"
      ]
     },
     "metadata": {},
     "output_type": "display_data"
    }
   ],
   "source": [
    "# show img\n",
    "import matplotlib.pyplot as plt\n",
    "\n",
    "plt.imshow(img.reshape(8, 8), cmap='gray')\n",
    "plt.show()"
   ]
  },
  {
   "cell_type": "code",
   "execution_count": null,
   "metadata": {},
   "outputs": [],
   "source": [
    "# add img to X in the first row\n",
    "X = data.copy()\n",
    "X = X.reshape(X.shape[0], -1)[0:100]\n",
    "X = np.concatenate((img.reshape(1, -1), X), axis=0)\n",
    "print(X)"
   ]
  },
  {
   "cell_type": "code",
   "execution_count": 12,
   "metadata": {},
   "outputs": [
    {
     "name": "stdout",
     "output_type": "stream",
     "text": [
      " output feature shape: (101, 64)\n",
      " > Gambar sebelum Saab Transform:\n",
      "[[172. 182. 160. 213. 222. 182. 184. 170.]\n",
      " [217. 179.  76. 131. 196.  79. 195. 204.]\n",
      " [197.  81.  16.  94. 174.  29.  84. 198.]\n",
      " [184.  64.   4. 120. 190.  85.  71. 197.]\n",
      " [196.  64.  21. 142. 206.  82. 119. 202.]\n",
      " [192.  68.  66. 190. 214. 147.  79. 208.]\n",
      " [205.  75.  65. 217. 220. 215.  91. 216.]\n",
      " [ 77. 116. 221. 233. 233. 228. 155. 224.]]\n",
      "\n",
      " > Gambar setelah Saab Transform:\n",
      "[[ 1.19212512e+03  5.19974792e+02  5.73835421e+00 -5.35188246e+00\n",
      "  -4.30014944e+00 -3.04696226e+00 -6.23368216e+00  9.06193376e-01]\n",
      " [ 3.09369826e+00 -2.21718693e+00  7.87819386e-01  2.34372282e+00\n",
      "   3.08899075e-01  7.37284660e-01  1.34452319e+00  3.70742828e-01]\n",
      " [-3.09013367e-01  2.92842160e-03  4.47384030e-01  2.27830172e-01\n",
      "   4.48221654e-01 -2.34347552e-01  2.46967643e-01 -1.21754214e-01]\n",
      " [ 1.28695220e-02 -1.69859409e-01  3.77435377e-03  4.54948470e-03\n",
      "  -7.62156099e-02 -1.48846447e-01 -3.13373744e-01 -2.07856417e-01]\n",
      " [-4.34591211e-02  5.88549487e-02  2.68422902e-01  8.70142654e-02\n",
      "   1.12044029e-01 -6.73361570e-02 -2.35194087e-01 -1.65242717e-01]\n",
      " [ 4.01813954e-01 -6.42663166e-02  3.83665711e-02 -1.69543952e-01\n",
      "   4.48371261e-01 -2.04798952e-01 -6.48322701e-02  2.74508148e-01]\n",
      " [ 5.35120726e-01 -3.24473590e-01  1.32053256e+00 -4.59716886e-01\n",
      "   2.09328222e+00  5.26376266e+01 -1.23231285e+02  6.77473755e+02]\n",
      " [ 5.92180359e+02  3.45931702e+02  1.85624283e+02 -4.15935287e+01\n",
      "   1.55039902e+02 -2.86625366e+02 -5.04076202e+02  2.31917038e+02]]\n"
     ]
    }
   ],
   "source": [
    "saab = Saab(num_kernels=-1, needBias=True, bias=0)\n",
    "saab.fit(X)\n",
    "\n",
    "Xt = saab.transform(X)\n",
    "print(\" output feature shape: %s\"%str(Xt.shape))\n",
    "# print(Xt)\n",
    "# print Xt image with imgshow\n",
    "# print in matrix 8,8\n",
    "print(\" > Gambar sebelum Saab Transform:\")\n",
    "print(X[0].reshape(8,8))\n",
    "print(\"\\n > Gambar setelah Saab Transform:\")\n",
    "print(Xt[0].reshape(8,8))"
   ]
  }
 ],
 "metadata": {
  "kernelspec": {
   "display_name": "Python 3",
   "language": "python",
   "name": "python3"
  },
  "language_info": {
   "codemirror_mode": {
    "name": "ipython",
    "version": 3
   },
   "file_extension": ".py",
   "mimetype": "text/x-python",
   "name": "python",
   "nbconvert_exporter": "python",
   "pygments_lexer": "ipython3",
   "version": "3.10.4"
  },
  "orig_nbformat": 4
 },
 "nbformat": 4,
 "nbformat_minor": 2
}
